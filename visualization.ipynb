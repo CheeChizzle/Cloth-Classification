{
 "cells": [
  {
   "cell_type": "code",
   "execution_count": 7,
   "source": [
    "!matplotlib inline\n",
    "# imports\n",
    "from loader import ClothDataset\n",
    "import matplotlib.pyplot as plt\n",
    "import matplotlib\n",
    "import torch\n",
    "import numpy as np\n",
    "import torchvision\n",
    "# matplotlib.use('MacOSX')\n",
    "\n",
    "trainset = ClothDataset(32, keys=\"train.pkl\", use_single_view=True)\n",
    "# datapoint = trainset[0]\n",
    "# type(datapoint) == tuple, len(datapoint) == 4\n",
    "# multiview_rgb = datapoint[0]\n",
    "# type(multiview_rgb) == torch.tensor, multiview_rgb.shape == 4x1024x1024x3\n",
    "# rgb = multiview_rgb[0]\n",
    "# rgb.shape 1024x1024x3\n",
    "# rgb/255\n",
    "# [0, 255]\n",
    "\n",
    "# print(rgb.max(),rgb.min(),rgb.max())\n",
    "\n",
    "trainloader = torch.utils.data.DataLoader(trainset, batch_size=2,\n",
    "                                        shuffle=True)\n",
    "\n",
    "\n",
    "# turning trainloader into iterable object\n",
    "dataiter = iter(trainloader)\n",
    "\n",
    "# taking first datapoint in trainloader iterable object\n",
    "rgb, depth, masks, label = dataiter.next()\n",
    "\n",
    "# rgb shape: 2 x 1024 x 1024 x 3\n",
    "# depth shape: 2 x 4 x 1024 x 1024 x 1\n",
    "# mask shape: 2 x 4 x 1024 x 1024 x 1\n",
    "# label shape: 2"
   ],
   "outputs": [
    {
     "output_type": "stream",
     "name": "stdout",
     "text": [
      "Traceback (most recent call last):\n",
      "  File \"/home/chichi/anaconda3/bin/matplotlib\", line 11, in <module>\n",
      "    sys.exit(plotting._matplotlib())\n",
      "AttributeError: module 'pandas.plotting' has no attribute '_matplotlib'\n",
      "[ClothDataset] loaded 47400 keys from train.pkl\n"
     ]
    }
   ],
   "metadata": {}
  },
  {
   "cell_type": "code",
   "execution_count": 13,
   "source": [
    "for img,mask in zip(rgb[1],masks[1]):\n",
    "    # img: H x W x C\n",
    "    print(img.shape)\n",
    "    img = (img - img.min())/(img.max() - img.min())\n",
    "    #plt.imshow(img.numpy())\n",
    "    # [0,255]\n",
    "    #plt.show()\n",
    "    print(mask.shape)\n",
    "    # img[~mask.squeeze()] = 1\n",
    "    plt.imshow(img.numpy())\n",
    "    plt.show()\n",
    "# images = rgb.permute(0,3,1,2)"
   ],
   "outputs": [
    {
     "output_type": "stream",
     "name": "stdout",
     "text": [
      "torch.Size([32, 32])\n",
      "torch.Size([1024, 1024, 1])\n"
     ]
    },
    {
     "output_type": "error",
     "ename": "IndexError",
     "evalue": "The shape of the mask [1024, 1024] at index 0 does not match the shape of the indexed tensor [32, 32] at index 0",
     "traceback": [
      "\u001b[0;31m---------------------------------------------------------------------------\u001b[0m",
      "\u001b[0;31mIndexError\u001b[0m                                Traceback (most recent call last)",
      "\u001b[0;32m<ipython-input-13-1fdbcd7d9813>\u001b[0m in \u001b[0;36m<module>\u001b[0;34m\u001b[0m\n\u001b[1;32m      7\u001b[0m     \u001b[0;31m#plt.show()\u001b[0m\u001b[0;34m\u001b[0m\u001b[0;34m\u001b[0m\u001b[0;34m\u001b[0m\u001b[0m\n\u001b[1;32m      8\u001b[0m     \u001b[0mprint\u001b[0m\u001b[0;34m(\u001b[0m\u001b[0mmask\u001b[0m\u001b[0;34m.\u001b[0m\u001b[0mshape\u001b[0m\u001b[0;34m)\u001b[0m\u001b[0;34m\u001b[0m\u001b[0;34m\u001b[0m\u001b[0m\n\u001b[0;32m----> 9\u001b[0;31m     \u001b[0mimg\u001b[0m\u001b[0;34m[\u001b[0m\u001b[0;34m~\u001b[0m\u001b[0mmask\u001b[0m\u001b[0;34m.\u001b[0m\u001b[0msqueeze\u001b[0m\u001b[0;34m(\u001b[0m\u001b[0;34m)\u001b[0m\u001b[0;34m]\u001b[0m \u001b[0;34m=\u001b[0m \u001b[0;36m1\u001b[0m\u001b[0;34m\u001b[0m\u001b[0;34m\u001b[0m\u001b[0m\n\u001b[0m\u001b[1;32m     10\u001b[0m     \u001b[0mplt\u001b[0m\u001b[0;34m.\u001b[0m\u001b[0mimshow\u001b[0m\u001b[0;34m(\u001b[0m\u001b[0mimg\u001b[0m\u001b[0;34m.\u001b[0m\u001b[0mnumpy\u001b[0m\u001b[0;34m(\u001b[0m\u001b[0;34m)\u001b[0m\u001b[0;34m)\u001b[0m\u001b[0;34m\u001b[0m\u001b[0;34m\u001b[0m\u001b[0m\n\u001b[1;32m     11\u001b[0m     \u001b[0mplt\u001b[0m\u001b[0;34m.\u001b[0m\u001b[0mshow\u001b[0m\u001b[0;34m(\u001b[0m\u001b[0;34m)\u001b[0m\u001b[0;34m\u001b[0m\u001b[0;34m\u001b[0m\u001b[0m\n",
      "\u001b[0;31mIndexError\u001b[0m: The shape of the mask [1024, 1024] at index 0 does not match the shape of the indexed tensor [32, 32] at index 0"
     ]
    }
   ],
   "metadata": {}
  },
  {
   "cell_type": "code",
   "execution_count": null,
   "source": [],
   "outputs": [],
   "metadata": {}
  }
 ],
 "metadata": {
  "orig_nbformat": 4,
  "language_info": {
   "name": "python",
   "version": "3.8.8",
   "mimetype": "text/x-python",
   "codemirror_mode": {
    "name": "ipython",
    "version": 3
   },
   "pygments_lexer": "ipython3",
   "nbconvert_exporter": "python",
   "file_extension": ".py"
  },
  "kernelspec": {
   "name": "python3",
   "display_name": "Python 3.8.8 64-bit ('base': conda)"
  },
  "interpreter": {
   "hash": "45891951c472c9dda1abade8d1e2a5c1cc49bd74596e95d18c6c6174c3f4d55d"
  }
 },
 "nbformat": 4,
 "nbformat_minor": 2
}